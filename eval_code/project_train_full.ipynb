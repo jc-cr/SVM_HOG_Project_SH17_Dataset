{
 "cells": [
  {
   "cell_type": "markdown",
   "id": "c6cf2775-2876-41e8-af34-7796d40dbcb2",
   "metadata": {},
   "source": [
    "# Project"
   ]
  },
  {
   "cell_type": "markdown",
   "id": "628f0b29-9739-4f29-90d7-f144e52dc459",
   "metadata": {},
   "source": [
    "## Class"
   ]
  },
  {
   "cell_type": "code",
   "execution_count": 9,
   "id": "e4922b35-115f-45dc-9eb2-09984c4f6c15",
   "metadata": {},
   "outputs": [],
   "source": [
    "import os\n",
    "import xml.etree.ElementTree as ET\n",
    "import cv2\n",
    "import numpy as np\n",
    "\n",
    "from sklearn.linear_model import SGDClassifier\n",
    "from sklearn.preprocessing import StandardScaler\n",
    "from sklearn.pipeline import make_pipeline\n",
    "from skimage.feature import hog\n",
    "\n",
    "from sklearn.metrics import confusion_matrix, classification_report\n",
    "\n",
    "from tqdm import tqdm\n",
    "import matplotlib.pyplot as plt\n",
    "import seaborn as sns\n",
    "\n",
    "import joblib"
   ]
  },
  {
   "cell_type": "code",
   "execution_count": 10,
   "id": "11ddae97-e390-4e3f-bffe-44bb0c692088",
   "metadata": {},
   "outputs": [],
   "source": [
    "\"\"\"\n",
    "Dataset is stuctured as:\n",
    "    ├── dataset\n",
    "    │   ├── images\n",
    "    │   ├── labels\n",
    "    │   ├── meta-data\n",
    "    │   ├── model.pkl\n",
    "    │   ├── train_files.txt\n",
    "    │   ├── val_files.txt\n",
    "    │   └── voc_labels\n",
    "\n",
    "    Dataset classes:\n",
    "        Person\n",
    "        Head\n",
    "        Face\n",
    "        Glasses\n",
    "        Face-mask-medical\n",
    "        Face-guard\n",
    "        Ear\n",
    "        Earmuffs\n",
    "        Hands\n",
    "        Gloves\n",
    "        Foot\n",
    "        Shoes\n",
    "        Safety-vest\n",
    "        Tools\n",
    "        Helmet\n",
    "        Medical-suit\n",
    "        Safety-suit\n",
    "\n",
    "    We only care about person class so\n",
    "    for each image:\n",
    "        - extract just the \"Person\" class as positive\n",
    "        - background as negative features.\n",
    "\"\"\"\n",
    "       \n",
    "\n",
    "class HOGPersonDetectorTrain:\n",
    "    \n",
    "    def __init__(self):\n",
    "        # HOG parameters\n",
    "        self.hog_params = {\n",
    "            'orientations': 9,\n",
    "            'pixels_per_cell': (8, 8),\n",
    "            'cells_per_block': (2, 2),\n",
    "            'block_norm': 'L2'\n",
    "        }\n",
    "        \n",
    "        # Initialize classifier pipeline\n",
    "        self.clf = make_pipeline(\n",
    "            StandardScaler(),\n",
    "            SGDClassifier(\n",
    "                loss='hinge',  # Linear SVM\n",
    "                max_iter=1000, \n",
    "                tol=1e-3,\n",
    "                random_state=42\n",
    "            )\n",
    "        )\n",
    "\n",
    "\n",
    "    def train(self, train_file_path, train_images_path, annotations_path, \n",
    "              model_save_path=\"model.pkl\", batch_size=50):\n",
    "        \"\"\"Train the SVM classifier with batch processing\"\"\"\n",
    "        if not self.check_paths(train_file_path, train_images_path, annotations_path):\n",
    "            return False\n",
    "            \n",
    "        # Load and prepare training data\n",
    "        train_images = self.load_image_list(train_file_path)\n",
    "        print(f\"Loaded {len(train_images)} images\")\n",
    "            \n",
    "        print(\"Preparing training data...\")\n",
    "        X_train, y_train = self.prepare_training_data(\n",
    "            train_images_path, \n",
    "            train_images, \n",
    "            annotations_path,\n",
    "            batch_size=batch_size\n",
    "        )\n",
    "        \n",
    "        print(f\"Total features: {len(X_train)}\")\n",
    "        print(f\"Positive samples: {np.sum(y_train == 1)}\")\n",
    "        print(f\"Negative samples: {np.sum(y_train == 0)}\")\n",
    "        print(f\"Feature dimension: {X_train.shape[1]}\")\n",
    "             \n",
    "        print(\"Training classifier...\")\n",
    "        self.clf.fit(X_train, y_train)\n",
    "    \n",
    "        print(\"Saving model...\")\n",
    "        self.save_model(model_save_path)\n",
    "        print(f\"Model saved to {model_save_path}\")\n",
    "        \n",
    "        return True\n",
    "\n",
    "    def prepare_training_data(self, image_dir, image_list, annotations_dir, batch_size=50):\n",
    "        \"\"\"Extract positive and negative samples from dataset in batches\"\"\"\n",
    "        final_X = []\n",
    "        final_y = []\n",
    "        \n",
    "        # Process images in batches\n",
    "        num_batches = len(image_list) // batch_size + 1\n",
    "        \n",
    "        for batch_idx in range(num_batches):\n",
    "            start_idx = batch_idx * batch_size\n",
    "            end_idx = min((batch_idx + 1) * batch_size, len(image_list))\n",
    "            batch_images = image_list[start_idx:end_idx]\n",
    "            \n",
    "            print(f\"\\nProcessing batch {batch_idx + 1}/{num_batches}\")\n",
    "            batch_X = []\n",
    "            batch_y = []\n",
    "            \n",
    "            for img_file in tqdm(batch_images):\n",
    "                try:\n",
    "                    # Load image and annotation\n",
    "                    img_path = os.path.join(image_dir, img_file)\n",
    "                    xml_name = os.path.splitext(img_file)[0] + '.xml'\n",
    "                    xml_path = os.path.join(annotations_dir, xml_name)\n",
    "                    \n",
    "                    if not os.path.exists(img_path) or not os.path.exists(xml_path):\n",
    "                        continue\n",
    "                        \n",
    "                    image = cv2.imread(img_path)\n",
    "                    if image is None:\n",
    "                        continue\n",
    "        \n",
    "                    # Convert to grayscale\n",
    "                    gray = cv2.cvtColor(image, cv2.COLOR_BGR2GRAY)\n",
    "                    \n",
    "                    # Get person boxes\n",
    "                    person_boxes = self.get_person_boxes(xml_path)\n",
    "                    \n",
    "                    # Extract samples with limited negatives\n",
    "                    pos_samples, neg_samples = self.extract_samples(gray, person_boxes)\n",
    "                    \n",
    "                    # Add to batch data\n",
    "                    batch_X.extend(pos_samples)\n",
    "                    batch_y.extend([1] * len(pos_samples))\n",
    "                    batch_X.extend(neg_samples)\n",
    "                    batch_y.extend([0] * len(neg_samples))\n",
    "                    \n",
    "                except Exception as e:\n",
    "                    print(f\"Error processing {img_file}: {e}\")\n",
    "                    continue\n",
    "            \n",
    "            # Convert batch to numpy array and append to final lists\n",
    "            if batch_X:\n",
    "                batch_X = np.array(batch_X)\n",
    "                batch_y = np.array(batch_y)\n",
    "                \n",
    "                # Save intermediate results\n",
    "                temp_path = f\"temp_batch_{batch_idx}.npz\"\n",
    "                np.savez(temp_path, X=batch_X, y=batch_y)\n",
    "                \n",
    "                print(f\"Batch {batch_idx + 1} stats:\")\n",
    "                print(f\"Positive samples: {np.sum(batch_y == 1)}\")\n",
    "                print(f\"Negative samples: {np.sum(batch_y == 0)}\")\n",
    "                \n",
    "                # Clear batch data\n",
    "                del batch_X\n",
    "                del batch_y\n",
    "                \n",
    "            # Load previous batches in chunks\n",
    "            if batch_idx > 0 and batch_idx % 10 == 0:\n",
    "                print(\"\\nCombining intermediate batches...\")\n",
    "                for i in range(max(0, batch_idx - 10), batch_idx):\n",
    "                    temp_path = f\"temp_batch_{i}.npz\"\n",
    "                    if os.path.exists(temp_path):\n",
    "                        data = np.load(temp_path)\n",
    "                        final_X.extend(data['X'])\n",
    "                        final_y.extend(data['y'])\n",
    "                        os.remove(temp_path)\n",
    "        \n",
    "        # Load any remaining batches\n",
    "        for i in range(num_batches):\n",
    "            temp_path = f\"temp_batch_{i}.npz\"\n",
    "            if os.path.exists(temp_path):\n",
    "                data = np.load(temp_path)\n",
    "                final_X.extend(data['X'])\n",
    "                final_y.extend(data['y'])\n",
    "                os.remove(temp_path)\n",
    "        \n",
    "        return np.array(final_X), np.array(final_y)\n",
    "    \n",
    "    def extract_samples(self, image, person_boxes, neg_pos_ratio=5):\n",
    "        \"\"\"Extract positive and negative samples with consistent size\"\"\"\n",
    "        height, width = image.shape[:2]\n",
    "        positive_samples = []\n",
    "        negative_samples = []\n",
    "        window_size = (64, 128)  # Fixed window size for both positive and negative\n",
    "        \n",
    "        # Process positive samples\n",
    "        for box in person_boxes:\n",
    "            xmin, ymin, xmax, ymax = box\n",
    "            # Skip boxes that are too small\n",
    "            if (ymax - ymin) < 64 or (xmax - xmin) < 32:\n",
    "                continue\n",
    "                \n",
    "            # Adjust aspect ratio to match window size\n",
    "            box_width = xmax - xmin\n",
    "            box_height = ymax - ymin\n",
    "            ar = box_height / box_width\n",
    "            target_ar = window_size[1] / window_size[0]\n",
    "            \n",
    "            if ar > target_ar:\n",
    "                # Too tall, adjust width\n",
    "                new_width = box_height / target_ar\n",
    "                xmin = max(0, xmin - (new_width - box_width)/2)\n",
    "                xmax = min(width, xmax + (new_width - box_width)/2)\n",
    "            else:\n",
    "                # Too wide, adjust height\n",
    "                new_height = box_width * target_ar\n",
    "                ymin = max(0, ymin - (new_height - box_height)/2)\n",
    "                ymax = min(height, ymax + (new_height - box_height)/2)\n",
    "                \n",
    "            person_img = image[int(ymin):int(ymax), int(xmin):int(xmax)]\n",
    "            features = self.extract_hog_features(person_img, target_size=window_size)\n",
    "            if features is not None:\n",
    "                positive_samples.append(features)\n",
    "        \n",
    "        # Create person mask\n",
    "        person_mask = np.zeros((height, width), dtype=np.uint8)\n",
    "        for box in person_boxes:\n",
    "            xmin, ymin, xmax, ymax = box\n",
    "            person_mask[ymin:ymax, xmin:xmax] = 1\n",
    "        \n",
    "        # Extract negative samples with smaller stride\n",
    "        stride = 32  # Smaller stride for more samples\n",
    "        target_negatives = len(positive_samples) * neg_pos_ratio\n",
    "        \n",
    "        for y in range(0, height - window_size[1], stride):\n",
    "            if len(negative_samples) >= target_negatives:\n",
    "                break\n",
    "            for x in range(0, width - window_size[0], stride):\n",
    "                if len(negative_samples) >= target_negatives:\n",
    "                    break\n",
    "                    \n",
    "                window_mask = person_mask[y:y + window_size[1], x:x + window_size[0]]\n",
    "                overlap = np.sum(window_mask) / (window_size[0] * window_size[1])\n",
    "                \n",
    "                # Accept windows with less than 30% overlap\n",
    "                if overlap < 0.3:\n",
    "                    window = image[y:y + window_size[1], x:x + window_size[0]]\n",
    "                    features = self.extract_hog_features(window, target_size=window_size)\n",
    "                    if features is not None:\n",
    "                        negative_samples.append(features)\n",
    "        \n",
    "        return positive_samples, negative_samples\n",
    "        \n",
    "    def load_image_list(self, split_file_path):\n",
    "        \"\"\"Load image list from train/val txt file\"\"\"\n",
    "        with open(split_file_path) as f:\n",
    "            return [line.strip() for line in f.readlines()]\n",
    "\n",
    "    def get_person_boxes(self, xml_path):\n",
    "        \"\"\"Extract person bounding boxes from XML annotation\"\"\"\n",
    "        tree = ET.parse(xml_path)\n",
    "        root = tree.getroot()\n",
    "        boxes = []\n",
    "        \n",
    "        for obj in root.findall('object'):\n",
    "            if obj.find('name').text.lower() == 'person':\n",
    "                bbox = obj.find('bndbox')\n",
    "                xmin = int(float(bbox.find('xmin').text))\n",
    "                ymin = int(float(bbox.find('ymin').text))\n",
    "                xmax = int(float(bbox.find('xmax').text))\n",
    "                ymax = int(float(bbox.find('ymax').text))\n",
    "                boxes.append((xmin, ymin, xmax, ymax))\n",
    "        return boxes\n",
    "\n",
    "    def save_model(self, save_path):\n",
    "        \"\"\"Save the trained model\"\"\"\n",
    "        joblib.dump(self.clf, save_path)\n",
    "\n",
    "    def check_paths(self, train_file_path, train_images_path, annotations_path):\n",
    "        \"\"\"Verify all required paths exist\"\"\"\n",
    "        if not all(os.path.exists(p) for p in [train_file_path, train_images_path, annotations_path]):\n",
    "            print(\"One or more required paths do not exist\")\n",
    "            return False\n",
    "            \n",
    "        with open(train_file_path) as f:\n",
    "            image_list = [line.strip() for line in f.readlines()]\n",
    "            print(f\"Found {len(image_list)} images in train file\")\n",
    "            \n",
    "        return True\n",
    "    \n",
    "    def extract_hog_features(self, image, target_size=(128, 64)):\n",
    "        \"\"\"Extract HOG features from an image patch\"\"\"\n",
    "        if image is None or image.size == 0:\n",
    "            return None\n",
    "            \n",
    "        try:\n",
    "            resized = cv2.resize(image, target_size)\n",
    "            features = hog(\n",
    "                resized,\n",
    "                orientations=self.hog_params['orientations'],\n",
    "                pixels_per_cell=self.hog_params['pixels_per_cell'],\n",
    "                cells_per_block=self.hog_params['cells_per_block'],\n",
    "                block_norm=self.hog_params['block_norm'],\n",
    "                feature_vector=True\n",
    "            )\n",
    "            return features\n",
    "        except Exception as e:\n",
    "            print(f\"Error extracting HOG features: {e}\")\n",
    "            return None\n",
    "      "
   ]
  },
  {
   "cell_type": "markdown",
   "id": "8b0a331c-131b-4c9b-b11d-31c51915bd79",
   "metadata": {},
   "source": [
    "## Code"
   ]
  },
  {
   "cell_type": "code",
   "execution_count": 11,
   "id": "8055f896-c228-490b-8098-02140897ecc1",
   "metadata": {},
   "outputs": [],
   "source": [
    "detector = HOGPersonDetectorTrain()"
   ]
  },
  {
   "cell_type": "code",
   "execution_count": 12,
   "id": "17d2646d-a8b3-4ad0-8ee3-2f2882a03485",
   "metadata": {},
   "outputs": [
    {
     "name": "stdout",
     "output_type": "stream",
     "text": [
      "Found 6479 images in train file\n",
      "Loaded 6479 images\n",
      "Preparing training data...\n",
      "\n",
      "Processing batch 1/130\n"
     ]
    },
    {
     "name": "stderr",
     "output_type": "stream",
     "text": [
      "100%|██████████| 50/50 [00:07<00:00,  6.66it/s]\n"
     ]
    },
    {
     "name": "stdout",
     "output_type": "stream",
     "text": [
      "Batch 1 stats:\n",
      "Positive samples: 64\n",
      "Negative samples: 305\n",
      "\n",
      "Processing batch 2/130\n"
     ]
    },
    {
     "name": "stderr",
     "output_type": "stream",
     "text": [
      "100%|██████████| 50/50 [00:07<00:00,  6.78it/s]\n"
     ]
    },
    {
     "name": "stdout",
     "output_type": "stream",
     "text": [
      "Batch 2 stats:\n",
      "Positive samples: 78\n",
      "Negative samples: 385\n",
      "\n",
      "Processing batch 3/130\n"
     ]
    },
    {
     "name": "stderr",
     "output_type": "stream",
     "text": [
      "100%|██████████| 50/50 [00:08<00:00,  5.87it/s]\n"
     ]
    },
    {
     "name": "stdout",
     "output_type": "stream",
     "text": [
      "Batch 3 stats:\n",
      "Positive samples: 81\n",
      "Negative samples: 405\n",
      "\n",
      "Processing batch 4/130\n"
     ]
    },
    {
     "name": "stderr",
     "output_type": "stream",
     "text": [
      "100%|██████████| 50/50 [00:09<00:00,  5.32it/s]\n"
     ]
    },
    {
     "name": "stdout",
     "output_type": "stream",
     "text": [
      "Batch 4 stats:\n",
      "Positive samples: 99\n",
      "Negative samples: 495\n",
      "\n",
      "Processing batch 5/130\n"
     ]
    },
    {
     "name": "stderr",
     "output_type": "stream",
     "text": [
      "100%|██████████| 50/50 [00:08<00:00,  5.88it/s]\n"
     ]
    },
    {
     "name": "stdout",
     "output_type": "stream",
     "text": [
      "Batch 5 stats:\n",
      "Positive samples: 87\n",
      "Negative samples: 425\n",
      "\n",
      "Processing batch 6/130\n"
     ]
    },
    {
     "name": "stderr",
     "output_type": "stream",
     "text": [
      "100%|██████████| 50/50 [00:09<00:00,  5.53it/s]\n"
     ]
    },
    {
     "name": "stdout",
     "output_type": "stream",
     "text": [
      "Batch 6 stats:\n",
      "Positive samples: 71\n",
      "Negative samples: 350\n",
      "\n",
      "Processing batch 7/130\n"
     ]
    },
    {
     "name": "stderr",
     "output_type": "stream",
     "text": [
      "100%|██████████| 50/50 [00:07<00:00,  6.47it/s]\n"
     ]
    },
    {
     "name": "stdout",
     "output_type": "stream",
     "text": [
      "Batch 7 stats:\n",
      "Positive samples: 101\n",
      "Negative samples: 500\n",
      "\n",
      "Processing batch 8/130\n"
     ]
    },
    {
     "name": "stderr",
     "output_type": "stream",
     "text": [
      "100%|██████████| 50/50 [00:07<00:00,  6.53it/s]\n"
     ]
    },
    {
     "name": "stdout",
     "output_type": "stream",
     "text": [
      "Batch 8 stats:\n",
      "Positive samples: 88\n",
      "Negative samples: 430\n",
      "\n",
      "Processing batch 9/130\n"
     ]
    },
    {
     "name": "stderr",
     "output_type": "stream",
     "text": [
      "100%|██████████| 50/50 [00:07<00:00,  6.98it/s]\n"
     ]
    },
    {
     "name": "stdout",
     "output_type": "stream",
     "text": [
      "Batch 9 stats:\n",
      "Positive samples: 70\n",
      "Negative samples: 345\n",
      "\n",
      "Processing batch 10/130\n"
     ]
    },
    {
     "name": "stderr",
     "output_type": "stream",
     "text": [
      "100%|██████████| 50/50 [00:08<00:00,  5.90it/s]\n"
     ]
    },
    {
     "name": "stdout",
     "output_type": "stream",
     "text": [
      "Batch 10 stats:\n",
      "Positive samples: 78\n",
      "Negative samples: 390\n",
      "\n",
      "Processing batch 11/130\n"
     ]
    },
    {
     "name": "stderr",
     "output_type": "stream",
     "text": [
      "100%|██████████| 50/50 [00:07<00:00,  7.03it/s]\n"
     ]
    },
    {
     "name": "stdout",
     "output_type": "stream",
     "text": [
      "Batch 11 stats:\n",
      "Positive samples: 88\n",
      "Negative samples: 440\n",
      "\n",
      "Combining intermediate batches...\n",
      "\n",
      "Processing batch 12/130\n"
     ]
    },
    {
     "name": "stderr",
     "output_type": "stream",
     "text": [
      "100%|██████████| 50/50 [00:07<00:00,  6.55it/s]\n"
     ]
    },
    {
     "name": "stdout",
     "output_type": "stream",
     "text": [
      "Batch 12 stats:\n",
      "Positive samples: 83\n",
      "Negative samples: 415\n",
      "\n",
      "Processing batch 13/130\n"
     ]
    },
    {
     "name": "stderr",
     "output_type": "stream",
     "text": [
      "100%|██████████| 50/50 [00:07<00:00,  6.49it/s]\n"
     ]
    },
    {
     "name": "stdout",
     "output_type": "stream",
     "text": [
      "Batch 13 stats:\n",
      "Positive samples: 89\n",
      "Negative samples: 440\n",
      "\n",
      "Processing batch 14/130\n"
     ]
    },
    {
     "name": "stderr",
     "output_type": "stream",
     "text": [
      "100%|██████████| 50/50 [00:07<00:00,  6.73it/s]\n"
     ]
    },
    {
     "name": "stdout",
     "output_type": "stream",
     "text": [
      "Batch 14 stats:\n",
      "Positive samples: 75\n",
      "Negative samples: 360\n",
      "\n",
      "Processing batch 15/130\n"
     ]
    },
    {
     "name": "stderr",
     "output_type": "stream",
     "text": [
      "100%|██████████| 50/50 [00:06<00:00,  7.17it/s]\n"
     ]
    },
    {
     "name": "stdout",
     "output_type": "stream",
     "text": [
      "Batch 15 stats:\n",
      "Positive samples: 87\n",
      "Negative samples: 430\n",
      "\n",
      "Processing batch 16/130\n"
     ]
    },
    {
     "name": "stderr",
     "output_type": "stream",
     "text": [
      "100%|██████████| 50/50 [00:06<00:00,  8.17it/s]\n"
     ]
    },
    {
     "name": "stdout",
     "output_type": "stream",
     "text": [
      "Batch 16 stats:\n",
      "Positive samples: 75\n",
      "Negative samples: 375\n",
      "\n",
      "Processing batch 17/130\n"
     ]
    },
    {
     "name": "stderr",
     "output_type": "stream",
     "text": [
      "100%|██████████| 50/50 [00:08<00:00,  5.74it/s]\n"
     ]
    },
    {
     "name": "stdout",
     "output_type": "stream",
     "text": [
      "Batch 17 stats:\n",
      "Positive samples: 86\n",
      "Negative samples: 420\n",
      "\n",
      "Processing batch 18/130\n"
     ]
    },
    {
     "name": "stderr",
     "output_type": "stream",
     "text": [
      "100%|██████████| 50/50 [00:07<00:00,  6.32it/s]\n"
     ]
    },
    {
     "name": "stdout",
     "output_type": "stream",
     "text": [
      "Batch 18 stats:\n",
      "Positive samples: 79\n",
      "Negative samples: 390\n",
      "\n",
      "Processing batch 19/130\n"
     ]
    },
    {
     "name": "stderr",
     "output_type": "stream",
     "text": [
      "100%|██████████| 50/50 [00:08<00:00,  6.19it/s]\n"
     ]
    },
    {
     "name": "stdout",
     "output_type": "stream",
     "text": [
      "Batch 19 stats:\n",
      "Positive samples: 80\n",
      "Negative samples: 400\n",
      "\n",
      "Processing batch 20/130\n"
     ]
    },
    {
     "name": "stderr",
     "output_type": "stream",
     "text": [
      "100%|██████████| 50/50 [00:07<00:00,  6.72it/s]\n"
     ]
    },
    {
     "name": "stdout",
     "output_type": "stream",
     "text": [
      "Batch 20 stats:\n",
      "Positive samples: 83\n",
      "Negative samples: 415\n",
      "\n",
      "Processing batch 21/130\n"
     ]
    },
    {
     "name": "stderr",
     "output_type": "stream",
     "text": [
      "100%|██████████| 50/50 [00:07<00:00,  6.56it/s]\n"
     ]
    },
    {
     "name": "stdout",
     "output_type": "stream",
     "text": [
      "Batch 21 stats:\n",
      "Positive samples: 90\n",
      "Negative samples: 440\n",
      "\n",
      "Combining intermediate batches...\n",
      "\n",
      "Processing batch 22/130\n"
     ]
    },
    {
     "name": "stderr",
     "output_type": "stream",
     "text": [
      "100%|██████████| 50/50 [00:08<00:00,  6.24it/s]\n"
     ]
    },
    {
     "name": "stdout",
     "output_type": "stream",
     "text": [
      "Batch 22 stats:\n",
      "Positive samples: 118\n",
      "Negative samples: 590\n",
      "\n",
      "Processing batch 23/130\n"
     ]
    },
    {
     "name": "stderr",
     "output_type": "stream",
     "text": [
      "100%|██████████| 50/50 [00:08<00:00,  6.06it/s]\n"
     ]
    },
    {
     "name": "stdout",
     "output_type": "stream",
     "text": [
      "Batch 23 stats:\n",
      "Positive samples: 80\n",
      "Negative samples: 385\n",
      "\n",
      "Processing batch 24/130\n"
     ]
    },
    {
     "name": "stderr",
     "output_type": "stream",
     "text": [
      "100%|██████████| 50/50 [00:07<00:00,  6.53it/s]\n"
     ]
    },
    {
     "name": "stdout",
     "output_type": "stream",
     "text": [
      "Batch 24 stats:\n",
      "Positive samples: 80\n",
      "Negative samples: 385\n",
      "\n",
      "Processing batch 25/130\n"
     ]
    },
    {
     "name": "stderr",
     "output_type": "stream",
     "text": [
      "100%|██████████| 50/50 [00:07<00:00,  6.47it/s]\n"
     ]
    },
    {
     "name": "stdout",
     "output_type": "stream",
     "text": [
      "Batch 25 stats:\n",
      "Positive samples: 64\n",
      "Negative samples: 295\n",
      "\n",
      "Processing batch 26/130\n"
     ]
    },
    {
     "name": "stderr",
     "output_type": "stream",
     "text": [
      "100%|██████████| 50/50 [00:06<00:00,  7.33it/s]\n"
     ]
    },
    {
     "name": "stdout",
     "output_type": "stream",
     "text": [
      "Batch 26 stats:\n",
      "Positive samples: 65\n",
      "Negative samples: 325\n",
      "\n",
      "Processing batch 27/130\n"
     ]
    },
    {
     "name": "stderr",
     "output_type": "stream",
     "text": [
      "100%|██████████| 50/50 [00:08<00:00,  6.16it/s]\n"
     ]
    },
    {
     "name": "stdout",
     "output_type": "stream",
     "text": [
      "Batch 27 stats:\n",
      "Positive samples: 105\n",
      "Negative samples: 525\n",
      "\n",
      "Processing batch 28/130\n"
     ]
    },
    {
     "name": "stderr",
     "output_type": "stream",
     "text": [
      "100%|██████████| 50/50 [00:07<00:00,  7.10it/s]\n"
     ]
    },
    {
     "name": "stdout",
     "output_type": "stream",
     "text": [
      "Batch 28 stats:\n",
      "Positive samples: 94\n",
      "Negative samples: 470\n",
      "\n",
      "Processing batch 29/130\n"
     ]
    },
    {
     "name": "stderr",
     "output_type": "stream",
     "text": [
      "100%|██████████| 50/50 [00:07<00:00,  6.58it/s]\n"
     ]
    },
    {
     "name": "stdout",
     "output_type": "stream",
     "text": [
      "Batch 29 stats:\n",
      "Positive samples: 99\n",
      "Negative samples: 495\n",
      "\n",
      "Processing batch 30/130\n"
     ]
    },
    {
     "name": "stderr",
     "output_type": "stream",
     "text": [
      "100%|██████████| 50/50 [00:06<00:00,  7.51it/s]\n"
     ]
    },
    {
     "name": "stdout",
     "output_type": "stream",
     "text": [
      "Batch 30 stats:\n",
      "Positive samples: 78\n",
      "Negative samples: 390\n",
      "\n",
      "Processing batch 31/130\n"
     ]
    },
    {
     "name": "stderr",
     "output_type": "stream",
     "text": [
      "100%|██████████| 50/50 [00:06<00:00,  7.71it/s]\n"
     ]
    },
    {
     "name": "stdout",
     "output_type": "stream",
     "text": [
      "Batch 31 stats:\n",
      "Positive samples: 82\n",
      "Negative samples: 410\n",
      "\n",
      "Combining intermediate batches...\n",
      "\n",
      "Processing batch 32/130\n"
     ]
    },
    {
     "name": "stderr",
     "output_type": "stream",
     "text": [
      "100%|██████████| 50/50 [00:09<00:00,  5.23it/s]\n"
     ]
    },
    {
     "name": "stdout",
     "output_type": "stream",
     "text": [
      "Batch 32 stats:\n",
      "Positive samples: 94\n",
      "Negative samples: 460\n",
      "\n",
      "Processing batch 33/130\n"
     ]
    },
    {
     "name": "stderr",
     "output_type": "stream",
     "text": [
      "100%|██████████| 50/50 [00:06<00:00,  7.32it/s]\n"
     ]
    },
    {
     "name": "stdout",
     "output_type": "stream",
     "text": [
      "Batch 33 stats:\n",
      "Positive samples: 80\n",
      "Negative samples: 390\n",
      "\n",
      "Processing batch 34/130\n"
     ]
    },
    {
     "name": "stderr",
     "output_type": "stream",
     "text": [
      "100%|██████████| 50/50 [00:07<00:00,  6.95it/s]\n"
     ]
    },
    {
     "name": "stdout",
     "output_type": "stream",
     "text": [
      "Batch 34 stats:\n",
      "Positive samples: 80\n",
      "Negative samples: 395\n",
      "\n",
      "Processing batch 35/130\n"
     ]
    },
    {
     "name": "stderr",
     "output_type": "stream",
     "text": [
      "100%|██████████| 50/50 [00:07<00:00,  6.84it/s]\n"
     ]
    },
    {
     "name": "stdout",
     "output_type": "stream",
     "text": [
      "Batch 35 stats:\n",
      "Positive samples: 70\n",
      "Negative samples: 350\n",
      "\n",
      "Processing batch 36/130\n"
     ]
    },
    {
     "name": "stderr",
     "output_type": "stream",
     "text": [
      "100%|██████████| 50/50 [00:06<00:00,  7.41it/s]\n"
     ]
    },
    {
     "name": "stdout",
     "output_type": "stream",
     "text": [
      "Batch 36 stats:\n",
      "Positive samples: 73\n",
      "Negative samples: 365\n",
      "\n",
      "Processing batch 37/130\n"
     ]
    },
    {
     "name": "stderr",
     "output_type": "stream",
     "text": [
      "100%|██████████| 50/50 [00:07<00:00,  7.10it/s]\n"
     ]
    },
    {
     "name": "stdout",
     "output_type": "stream",
     "text": [
      "Batch 37 stats:\n",
      "Positive samples: 72\n",
      "Negative samples: 360\n",
      "\n",
      "Processing batch 38/130\n"
     ]
    },
    {
     "name": "stderr",
     "output_type": "stream",
     "text": [
      "100%|██████████| 50/50 [00:07<00:00,  7.04it/s]\n"
     ]
    },
    {
     "name": "stdout",
     "output_type": "stream",
     "text": [
      "Batch 38 stats:\n",
      "Positive samples: 72\n",
      "Negative samples: 360\n",
      "\n",
      "Processing batch 39/130\n"
     ]
    },
    {
     "name": "stderr",
     "output_type": "stream",
     "text": [
      "100%|██████████| 50/50 [00:07<00:00,  6.82it/s]\n"
     ]
    },
    {
     "name": "stdout",
     "output_type": "stream",
     "text": [
      "Batch 39 stats:\n",
      "Positive samples: 90\n",
      "Negative samples: 450\n",
      "\n",
      "Processing batch 40/130\n"
     ]
    },
    {
     "name": "stderr",
     "output_type": "stream",
     "text": [
      "100%|██████████| 50/50 [00:07<00:00,  7.04it/s]\n"
     ]
    },
    {
     "name": "stdout",
     "output_type": "stream",
     "text": [
      "Batch 40 stats:\n",
      "Positive samples: 92\n",
      "Negative samples: 450\n",
      "\n",
      "Processing batch 41/130\n"
     ]
    },
    {
     "name": "stderr",
     "output_type": "stream",
     "text": [
      "100%|██████████| 50/50 [00:07<00:00,  6.78it/s]\n"
     ]
    },
    {
     "name": "stdout",
     "output_type": "stream",
     "text": [
      "Batch 41 stats:\n",
      "Positive samples: 70\n",
      "Negative samples: 345\n",
      "\n",
      "Combining intermediate batches...\n",
      "\n",
      "Processing batch 42/130\n"
     ]
    },
    {
     "name": "stderr",
     "output_type": "stream",
     "text": [
      "100%|██████████| 50/50 [00:07<00:00,  6.67it/s]\n"
     ]
    },
    {
     "name": "stdout",
     "output_type": "stream",
     "text": [
      "Batch 42 stats:\n",
      "Positive samples: 83\n",
      "Negative samples: 410\n",
      "\n",
      "Processing batch 43/130\n"
     ]
    },
    {
     "name": "stderr",
     "output_type": "stream",
     "text": [
      "100%|██████████| 50/50 [00:07<00:00,  6.78it/s]\n"
     ]
    },
    {
     "name": "stdout",
     "output_type": "stream",
     "text": [
      "Batch 43 stats:\n",
      "Positive samples: 77\n",
      "Negative samples: 385\n",
      "\n",
      "Processing batch 44/130\n"
     ]
    },
    {
     "name": "stderr",
     "output_type": "stream",
     "text": [
      "100%|██████████| 50/50 [00:07<00:00,  7.00it/s]\n"
     ]
    },
    {
     "name": "stdout",
     "output_type": "stream",
     "text": [
      "Batch 44 stats:\n",
      "Positive samples: 117\n",
      "Negative samples: 585\n",
      "\n",
      "Processing batch 45/130\n"
     ]
    },
    {
     "name": "stderr",
     "output_type": "stream",
     "text": [
      "100%|██████████| 50/50 [00:09<00:00,  5.35it/s]\n"
     ]
    },
    {
     "name": "stdout",
     "output_type": "stream",
     "text": [
      "Batch 45 stats:\n",
      "Positive samples: 108\n",
      "Negative samples: 535\n",
      "\n",
      "Processing batch 46/130\n"
     ]
    },
    {
     "name": "stderr",
     "output_type": "stream",
     "text": [
      "100%|██████████| 50/50 [00:07<00:00,  6.48it/s]\n"
     ]
    },
    {
     "name": "stdout",
     "output_type": "stream",
     "text": [
      "Batch 46 stats:\n",
      "Positive samples: 83\n",
      "Negative samples: 410\n",
      "\n",
      "Processing batch 47/130\n"
     ]
    },
    {
     "name": "stderr",
     "output_type": "stream",
     "text": [
      "100%|██████████| 50/50 [00:08<00:00,  6.11it/s]\n"
     ]
    },
    {
     "name": "stdout",
     "output_type": "stream",
     "text": [
      "Batch 47 stats:\n",
      "Positive samples: 86\n",
      "Negative samples: 425\n",
      "\n",
      "Processing batch 48/130\n"
     ]
    },
    {
     "name": "stderr",
     "output_type": "stream",
     "text": [
      "100%|██████████| 50/50 [00:07<00:00,  6.42it/s]\n"
     ]
    },
    {
     "name": "stdout",
     "output_type": "stream",
     "text": [
      "Batch 48 stats:\n",
      "Positive samples: 73\n",
      "Negative samples: 355\n",
      "\n",
      "Processing batch 49/130\n"
     ]
    },
    {
     "name": "stderr",
     "output_type": "stream",
     "text": [
      "100%|██████████| 50/50 [00:07<00:00,  6.77it/s]\n"
     ]
    },
    {
     "name": "stdout",
     "output_type": "stream",
     "text": [
      "Batch 49 stats:\n",
      "Positive samples: 81\n",
      "Negative samples: 400\n",
      "\n",
      "Processing batch 50/130\n"
     ]
    },
    {
     "name": "stderr",
     "output_type": "stream",
     "text": [
      "100%|██████████| 50/50 [00:07<00:00,  6.83it/s]\n"
     ]
    },
    {
     "name": "stdout",
     "output_type": "stream",
     "text": [
      "Batch 50 stats:\n",
      "Positive samples: 99\n",
      "Negative samples: 490\n",
      "\n",
      "Processing batch 51/130\n"
     ]
    },
    {
     "name": "stderr",
     "output_type": "stream",
     "text": [
      "100%|██████████| 50/50 [00:07<00:00,  6.56it/s]\n"
     ]
    },
    {
     "name": "stdout",
     "output_type": "stream",
     "text": [
      "Batch 51 stats:\n",
      "Positive samples: 63\n",
      "Negative samples: 305\n",
      "\n",
      "Combining intermediate batches...\n",
      "\n",
      "Processing batch 52/130\n"
     ]
    },
    {
     "name": "stderr",
     "output_type": "stream",
     "text": [
      "100%|██████████| 50/50 [00:10<00:00,  4.91it/s]\n"
     ]
    },
    {
     "name": "stdout",
     "output_type": "stream",
     "text": [
      "Batch 52 stats:\n",
      "Positive samples: 73\n",
      "Negative samples: 355\n",
      "\n",
      "Processing batch 53/130\n"
     ]
    },
    {
     "name": "stderr",
     "output_type": "stream",
     "text": [
      "100%|██████████| 50/50 [00:09<00:00,  5.34it/s]\n"
     ]
    },
    {
     "name": "stdout",
     "output_type": "stream",
     "text": [
      "Batch 53 stats:\n",
      "Positive samples: 90\n",
      "Negative samples: 445\n",
      "\n",
      "Processing batch 54/130\n"
     ]
    },
    {
     "name": "stderr",
     "output_type": "stream",
     "text": [
      "100%|██████████| 50/50 [00:10<00:00,  4.94it/s]\n"
     ]
    },
    {
     "name": "stdout",
     "output_type": "stream",
     "text": [
      "Batch 54 stats:\n",
      "Positive samples: 92\n",
      "Negative samples: 460\n",
      "\n",
      "Processing batch 55/130\n"
     ]
    },
    {
     "name": "stderr",
     "output_type": "stream",
     "text": [
      "100%|██████████| 50/50 [00:07<00:00,  6.54it/s]\n"
     ]
    },
    {
     "name": "stdout",
     "output_type": "stream",
     "text": [
      "Batch 55 stats:\n",
      "Positive samples: 80\n",
      "Negative samples: 400\n",
      "\n",
      "Processing batch 56/130\n"
     ]
    },
    {
     "name": "stderr",
     "output_type": "stream",
     "text": [
      "100%|██████████| 50/50 [00:08<00:00,  5.91it/s]\n"
     ]
    },
    {
     "name": "stdout",
     "output_type": "stream",
     "text": [
      "Batch 56 stats:\n",
      "Positive samples: 87\n",
      "Negative samples: 430\n",
      "\n",
      "Processing batch 57/130\n"
     ]
    },
    {
     "name": "stderr",
     "output_type": "stream",
     "text": [
      "100%|██████████| 50/50 [00:08<00:00,  5.70it/s]\n"
     ]
    },
    {
     "name": "stdout",
     "output_type": "stream",
     "text": [
      "Batch 57 stats:\n",
      "Positive samples: 70\n",
      "Negative samples: 350\n",
      "\n",
      "Processing batch 58/130\n"
     ]
    },
    {
     "name": "stderr",
     "output_type": "stream",
     "text": [
      "100%|██████████| 50/50 [00:09<00:00,  5.55it/s]\n"
     ]
    },
    {
     "name": "stdout",
     "output_type": "stream",
     "text": [
      "Batch 58 stats:\n",
      "Positive samples: 74\n",
      "Negative samples: 365\n",
      "\n",
      "Processing batch 59/130\n"
     ]
    },
    {
     "name": "stderr",
     "output_type": "stream",
     "text": [
      "100%|██████████| 50/50 [00:08<00:00,  5.69it/s]\n"
     ]
    },
    {
     "name": "stdout",
     "output_type": "stream",
     "text": [
      "Batch 59 stats:\n",
      "Positive samples: 83\n",
      "Negative samples: 410\n",
      "\n",
      "Processing batch 60/130\n"
     ]
    },
    {
     "name": "stderr",
     "output_type": "stream",
     "text": [
      "100%|██████████| 50/50 [00:08<00:00,  5.72it/s]\n"
     ]
    },
    {
     "name": "stdout",
     "output_type": "stream",
     "text": [
      "Batch 60 stats:\n",
      "Positive samples: 93\n",
      "Negative samples: 465\n",
      "\n",
      "Processing batch 61/130\n"
     ]
    },
    {
     "name": "stderr",
     "output_type": "stream",
     "text": [
      "100%|██████████| 50/50 [00:08<00:00,  5.59it/s]\n"
     ]
    },
    {
     "name": "stdout",
     "output_type": "stream",
     "text": [
      "Batch 61 stats:\n",
      "Positive samples: 100\n",
      "Negative samples: 500\n",
      "\n",
      "Combining intermediate batches...\n",
      "\n",
      "Processing batch 62/130\n"
     ]
    },
    {
     "name": "stderr",
     "output_type": "stream",
     "text": [
      "100%|██████████| 50/50 [00:09<00:00,  5.36it/s]\n"
     ]
    },
    {
     "name": "stdout",
     "output_type": "stream",
     "text": [
      "Batch 62 stats:\n",
      "Positive samples: 89\n",
      "Negative samples: 445\n",
      "\n",
      "Processing batch 63/130\n"
     ]
    },
    {
     "name": "stderr",
     "output_type": "stream",
     "text": [
      "100%|██████████| 50/50 [00:10<00:00,  4.88it/s]\n"
     ]
    },
    {
     "name": "stdout",
     "output_type": "stream",
     "text": [
      "Batch 63 stats:\n",
      "Positive samples: 69\n",
      "Negative samples: 322\n",
      "\n",
      "Processing batch 64/130\n"
     ]
    },
    {
     "name": "stderr",
     "output_type": "stream",
     "text": [
      "100%|██████████| 50/50 [00:10<00:00,  4.94it/s]\n"
     ]
    },
    {
     "name": "stdout",
     "output_type": "stream",
     "text": [
      "Batch 64 stats:\n",
      "Positive samples: 89\n",
      "Negative samples: 445\n",
      "\n",
      "Processing batch 65/130\n"
     ]
    },
    {
     "name": "stderr",
     "output_type": "stream",
     "text": [
      "100%|██████████| 50/50 [00:09<00:00,  5.13it/s]\n"
     ]
    },
    {
     "name": "stdout",
     "output_type": "stream",
     "text": [
      "Batch 65 stats:\n",
      "Positive samples: 88\n",
      "Negative samples: 440\n",
      "\n",
      "Processing batch 66/130\n"
     ]
    },
    {
     "name": "stderr",
     "output_type": "stream",
     "text": [
      "100%|██████████| 50/50 [00:10<00:00,  4.88it/s]\n"
     ]
    },
    {
     "name": "stdout",
     "output_type": "stream",
     "text": [
      "Batch 66 stats:\n",
      "Positive samples: 97\n",
      "Negative samples: 480\n",
      "\n",
      "Processing batch 67/130\n"
     ]
    },
    {
     "name": "stderr",
     "output_type": "stream",
     "text": [
      "100%|██████████| 50/50 [00:11<00:00,  4.46it/s]\n"
     ]
    },
    {
     "name": "stdout",
     "output_type": "stream",
     "text": [
      "Batch 67 stats:\n",
      "Positive samples: 82\n",
      "Negative samples: 405\n",
      "\n",
      "Processing batch 68/130\n"
     ]
    },
    {
     "name": "stderr",
     "output_type": "stream",
     "text": [
      "100%|██████████| 50/50 [00:11<00:00,  4.46it/s]\n"
     ]
    },
    {
     "name": "stdout",
     "output_type": "stream",
     "text": [
      "Batch 68 stats:\n",
      "Positive samples: 62\n",
      "Negative samples: 295\n",
      "\n",
      "Processing batch 69/130\n"
     ]
    },
    {
     "name": "stderr",
     "output_type": "stream",
     "text": [
      "100%|██████████| 50/50 [00:09<00:00,  5.08it/s]\n"
     ]
    },
    {
     "name": "stdout",
     "output_type": "stream",
     "text": [
      "Batch 69 stats:\n",
      "Positive samples: 84\n",
      "Negative samples: 410\n",
      "\n",
      "Processing batch 70/130\n"
     ]
    },
    {
     "name": "stderr",
     "output_type": "stream",
     "text": [
      "100%|██████████| 50/50 [00:10<00:00,  4.96it/s]\n"
     ]
    },
    {
     "name": "stdout",
     "output_type": "stream",
     "text": [
      "Batch 70 stats:\n",
      "Positive samples: 84\n",
      "Negative samples: 415\n",
      "\n",
      "Processing batch 71/130\n"
     ]
    },
    {
     "name": "stderr",
     "output_type": "stream",
     "text": [
      "100%|██████████| 50/50 [00:09<00:00,  5.33it/s]\n"
     ]
    },
    {
     "name": "stdout",
     "output_type": "stream",
     "text": [
      "Batch 71 stats:\n",
      "Positive samples: 73\n",
      "Negative samples: 365\n",
      "\n",
      "Combining intermediate batches...\n",
      "\n",
      "Processing batch 72/130\n"
     ]
    },
    {
     "name": "stderr",
     "output_type": "stream",
     "text": [
      "100%|██████████| 50/50 [00:09<00:00,  5.33it/s]\n"
     ]
    },
    {
     "name": "stdout",
     "output_type": "stream",
     "text": [
      "Batch 72 stats:\n",
      "Positive samples: 94\n",
      "Negative samples: 470\n",
      "\n",
      "Processing batch 73/130\n"
     ]
    },
    {
     "name": "stderr",
     "output_type": "stream",
     "text": [
      "100%|██████████| 50/50 [00:09<00:00,  5.19it/s]\n"
     ]
    },
    {
     "name": "stdout",
     "output_type": "stream",
     "text": [
      "Batch 73 stats:\n",
      "Positive samples: 77\n",
      "Negative samples: 380\n",
      "\n",
      "Processing batch 74/130\n"
     ]
    },
    {
     "name": "stderr",
     "output_type": "stream",
     "text": [
      "100%|██████████| 50/50 [00:08<00:00,  5.63it/s]\n"
     ]
    },
    {
     "name": "stdout",
     "output_type": "stream",
     "text": [
      "Batch 74 stats:\n",
      "Positive samples: 77\n",
      "Negative samples: 380\n",
      "\n",
      "Processing batch 75/130\n"
     ]
    },
    {
     "name": "stderr",
     "output_type": "stream",
     "text": [
      "100%|██████████| 50/50 [00:09<00:00,  5.47it/s]\n"
     ]
    },
    {
     "name": "stdout",
     "output_type": "stream",
     "text": [
      "Batch 75 stats:\n",
      "Positive samples: 78\n",
      "Negative samples: 390\n",
      "\n",
      "Processing batch 76/130\n"
     ]
    },
    {
     "name": "stderr",
     "output_type": "stream",
     "text": [
      "100%|██████████| 50/50 [00:08<00:00,  5.59it/s]\n"
     ]
    },
    {
     "name": "stdout",
     "output_type": "stream",
     "text": [
      "Batch 76 stats:\n",
      "Positive samples: 107\n",
      "Negative samples: 535\n",
      "\n",
      "Processing batch 77/130\n"
     ]
    },
    {
     "name": "stderr",
     "output_type": "stream",
     "text": [
      "100%|██████████| 50/50 [00:08<00:00,  5.64it/s]\n"
     ]
    },
    {
     "name": "stdout",
     "output_type": "stream",
     "text": [
      "Batch 77 stats:\n",
      "Positive samples: 74\n",
      "Negative samples: 370\n",
      "\n",
      "Processing batch 78/130\n"
     ]
    },
    {
     "name": "stderr",
     "output_type": "stream",
     "text": [
      "100%|██████████| 50/50 [00:10<00:00,  4.93it/s]\n"
     ]
    },
    {
     "name": "stdout",
     "output_type": "stream",
     "text": [
      "Batch 78 stats:\n",
      "Positive samples: 118\n",
      "Negative samples: 590\n",
      "\n",
      "Processing batch 79/130\n"
     ]
    },
    {
     "name": "stderr",
     "output_type": "stream",
     "text": [
      "100%|██████████| 50/50 [00:10<00:00,  4.67it/s]\n"
     ]
    },
    {
     "name": "stdout",
     "output_type": "stream",
     "text": [
      "Batch 79 stats:\n",
      "Positive samples: 71\n",
      "Negative samples: 355\n",
      "\n",
      "Processing batch 80/130\n"
     ]
    },
    {
     "name": "stderr",
     "output_type": "stream",
     "text": [
      "100%|██████████| 50/50 [00:08<00:00,  5.61it/s]\n"
     ]
    },
    {
     "name": "stdout",
     "output_type": "stream",
     "text": [
      "Batch 80 stats:\n",
      "Positive samples: 95\n",
      "Negative samples: 475\n",
      "\n",
      "Processing batch 81/130\n"
     ]
    },
    {
     "name": "stderr",
     "output_type": "stream",
     "text": [
      "100%|██████████| 50/50 [00:08<00:00,  5.69it/s]\n"
     ]
    },
    {
     "name": "stdout",
     "output_type": "stream",
     "text": [
      "Batch 81 stats:\n",
      "Positive samples: 89\n",
      "Negative samples: 435\n",
      "\n",
      "Combining intermediate batches...\n",
      "\n",
      "Processing batch 82/130\n"
     ]
    },
    {
     "name": "stderr",
     "output_type": "stream",
     "text": [
      "100%|██████████| 50/50 [00:08<00:00,  5.91it/s]\n"
     ]
    },
    {
     "name": "stdout",
     "output_type": "stream",
     "text": [
      "Batch 82 stats:\n",
      "Positive samples: 86\n",
      "Negative samples: 430\n",
      "\n",
      "Processing batch 83/130\n"
     ]
    },
    {
     "name": "stderr",
     "output_type": "stream",
     "text": [
      "100%|██████████| 50/50 [00:09<00:00,  5.21it/s]\n"
     ]
    },
    {
     "name": "stdout",
     "output_type": "stream",
     "text": [
      "Batch 83 stats:\n",
      "Positive samples: 70\n",
      "Negative samples: 350\n",
      "\n",
      "Processing batch 84/130\n"
     ]
    },
    {
     "name": "stderr",
     "output_type": "stream",
     "text": [
      "100%|██████████| 50/50 [00:10<00:00,  4.86it/s]\n"
     ]
    },
    {
     "name": "stdout",
     "output_type": "stream",
     "text": [
      "Batch 84 stats:\n",
      "Positive samples: 136\n",
      "Negative samples: 670\n",
      "\n",
      "Processing batch 85/130\n"
     ]
    },
    {
     "name": "stderr",
     "output_type": "stream",
     "text": [
      "100%|██████████| 50/50 [00:10<00:00,  4.84it/s]\n"
     ]
    },
    {
     "name": "stdout",
     "output_type": "stream",
     "text": [
      "Batch 85 stats:\n",
      "Positive samples: 77\n",
      "Negative samples: 380\n",
      "\n",
      "Processing batch 86/130\n"
     ]
    },
    {
     "name": "stderr",
     "output_type": "stream",
     "text": [
      "100%|██████████| 50/50 [00:09<00:00,  5.46it/s]\n"
     ]
    },
    {
     "name": "stdout",
     "output_type": "stream",
     "text": [
      "Batch 86 stats:\n",
      "Positive samples: 76\n",
      "Negative samples: 370\n",
      "\n",
      "Processing batch 87/130\n"
     ]
    },
    {
     "name": "stderr",
     "output_type": "stream",
     "text": [
      "100%|██████████| 50/50 [00:10<00:00,  4.78it/s]\n"
     ]
    },
    {
     "name": "stdout",
     "output_type": "stream",
     "text": [
      "Batch 87 stats:\n",
      "Positive samples: 91\n",
      "Negative samples: 450\n",
      "\n",
      "Processing batch 88/130\n"
     ]
    },
    {
     "name": "stderr",
     "output_type": "stream",
     "text": [
      "100%|██████████| 50/50 [00:09<00:00,  5.37it/s]\n"
     ]
    },
    {
     "name": "stdout",
     "output_type": "stream",
     "text": [
      "Batch 88 stats:\n",
      "Positive samples: 88\n",
      "Negative samples: 440\n",
      "\n",
      "Processing batch 89/130\n"
     ]
    },
    {
     "name": "stderr",
     "output_type": "stream",
     "text": [
      "100%|██████████| 50/50 [00:10<00:00,  4.78it/s]\n"
     ]
    },
    {
     "name": "stdout",
     "output_type": "stream",
     "text": [
      "Batch 89 stats:\n",
      "Positive samples: 94\n",
      "Negative samples: 470\n",
      "\n",
      "Processing batch 90/130\n"
     ]
    },
    {
     "name": "stderr",
     "output_type": "stream",
     "text": [
      "100%|██████████| 50/50 [00:12<00:00,  4.08it/s]\n"
     ]
    },
    {
     "name": "stdout",
     "output_type": "stream",
     "text": [
      "Batch 90 stats:\n",
      "Positive samples: 83\n",
      "Negative samples: 410\n",
      "\n",
      "Processing batch 91/130\n"
     ]
    },
    {
     "name": "stderr",
     "output_type": "stream",
     "text": [
      "100%|██████████| 50/50 [00:11<00:00,  4.37it/s]\n"
     ]
    },
    {
     "name": "stdout",
     "output_type": "stream",
     "text": [
      "Batch 91 stats:\n",
      "Positive samples: 110\n",
      "Negative samples: 540\n",
      "\n",
      "Combining intermediate batches...\n",
      "\n",
      "Processing batch 92/130\n"
     ]
    },
    {
     "name": "stderr",
     "output_type": "stream",
     "text": [
      "100%|██████████| 50/50 [00:10<00:00,  4.63it/s]\n"
     ]
    },
    {
     "name": "stdout",
     "output_type": "stream",
     "text": [
      "Batch 92 stats:\n",
      "Positive samples: 66\n",
      "Negative samples: 330\n",
      "\n",
      "Processing batch 93/130\n"
     ]
    },
    {
     "name": "stderr",
     "output_type": "stream",
     "text": [
      "100%|██████████| 50/50 [00:10<00:00,  4.74it/s]\n"
     ]
    },
    {
     "name": "stdout",
     "output_type": "stream",
     "text": [
      "Batch 93 stats:\n",
      "Positive samples: 91\n",
      "Negative samples: 455\n",
      "\n",
      "Processing batch 94/130\n"
     ]
    },
    {
     "name": "stderr",
     "output_type": "stream",
     "text": [
      "100%|██████████| 50/50 [00:09<00:00,  5.24it/s]\n"
     ]
    },
    {
     "name": "stdout",
     "output_type": "stream",
     "text": [
      "Batch 94 stats:\n",
      "Positive samples: 81\n",
      "Negative samples: 405\n",
      "\n",
      "Processing batch 95/130\n"
     ]
    },
    {
     "name": "stderr",
     "output_type": "stream",
     "text": [
      "100%|██████████| 50/50 [00:10<00:00,  4.71it/s]\n"
     ]
    },
    {
     "name": "stdout",
     "output_type": "stream",
     "text": [
      "Batch 95 stats:\n",
      "Positive samples: 80\n",
      "Negative samples: 400\n",
      "\n",
      "Processing batch 96/130\n"
     ]
    },
    {
     "name": "stderr",
     "output_type": "stream",
     "text": [
      "100%|██████████| 50/50 [00:09<00:00,  5.44it/s]\n"
     ]
    },
    {
     "name": "stdout",
     "output_type": "stream",
     "text": [
      "Batch 96 stats:\n",
      "Positive samples: 88\n",
      "Negative samples: 440\n",
      "\n",
      "Processing batch 97/130\n"
     ]
    },
    {
     "name": "stderr",
     "output_type": "stream",
     "text": [
      "100%|██████████| 50/50 [00:08<00:00,  5.56it/s]\n"
     ]
    },
    {
     "name": "stdout",
     "output_type": "stream",
     "text": [
      "Batch 97 stats:\n",
      "Positive samples: 86\n",
      "Negative samples: 425\n",
      "\n",
      "Processing batch 98/130\n"
     ]
    },
    {
     "name": "stderr",
     "output_type": "stream",
     "text": [
      "100%|██████████| 50/50 [00:09<00:00,  5.28it/s]\n"
     ]
    },
    {
     "name": "stdout",
     "output_type": "stream",
     "text": [
      "Batch 98 stats:\n",
      "Positive samples: 78\n",
      "Negative samples: 390\n",
      "\n",
      "Processing batch 99/130\n"
     ]
    },
    {
     "name": "stderr",
     "output_type": "stream",
     "text": [
      "100%|██████████| 50/50 [00:09<00:00,  5.49it/s]\n"
     ]
    },
    {
     "name": "stdout",
     "output_type": "stream",
     "text": [
      "Batch 99 stats:\n",
      "Positive samples: 84\n",
      "Negative samples: 420\n",
      "\n",
      "Processing batch 100/130\n"
     ]
    },
    {
     "name": "stderr",
     "output_type": "stream",
     "text": [
      "100%|██████████| 50/50 [00:09<00:00,  5.15it/s]\n"
     ]
    },
    {
     "name": "stdout",
     "output_type": "stream",
     "text": [
      "Batch 100 stats:\n",
      "Positive samples: 79\n",
      "Negative samples: 395\n",
      "\n",
      "Processing batch 101/130\n"
     ]
    },
    {
     "name": "stderr",
     "output_type": "stream",
     "text": [
      "100%|██████████| 50/50 [00:09<00:00,  5.01it/s]\n"
     ]
    },
    {
     "name": "stdout",
     "output_type": "stream",
     "text": [
      "Batch 101 stats:\n",
      "Positive samples: 84\n",
      "Negative samples: 405\n",
      "\n",
      "Combining intermediate batches...\n",
      "\n",
      "Processing batch 102/130\n"
     ]
    },
    {
     "name": "stderr",
     "output_type": "stream",
     "text": [
      "100%|██████████| 50/50 [00:10<00:00,  4.55it/s]\n"
     ]
    },
    {
     "name": "stdout",
     "output_type": "stream",
     "text": [
      "Batch 102 stats:\n",
      "Positive samples: 92\n",
      "Negative samples: 455\n",
      "\n",
      "Processing batch 103/130\n"
     ]
    },
    {
     "name": "stderr",
     "output_type": "stream",
     "text": [
      "100%|██████████| 50/50 [00:09<00:00,  5.10it/s]\n"
     ]
    },
    {
     "name": "stdout",
     "output_type": "stream",
     "text": [
      "Batch 103 stats:\n",
      "Positive samples: 87\n",
      "Negative samples: 431\n",
      "\n",
      "Processing batch 104/130\n"
     ]
    },
    {
     "name": "stderr",
     "output_type": "stream",
     "text": [
      "100%|██████████| 50/50 [00:09<00:00,  5.24it/s]\n"
     ]
    },
    {
     "name": "stdout",
     "output_type": "stream",
     "text": [
      "Batch 104 stats:\n",
      "Positive samples: 94\n",
      "Negative samples: 461\n",
      "\n",
      "Processing batch 105/130\n"
     ]
    },
    {
     "name": "stderr",
     "output_type": "stream",
     "text": [
      "100%|██████████| 50/50 [00:09<00:00,  5.37it/s]\n"
     ]
    },
    {
     "name": "stdout",
     "output_type": "stream",
     "text": [
      "Batch 105 stats:\n",
      "Positive samples: 68\n",
      "Negative samples: 330\n",
      "\n",
      "Processing batch 106/130\n"
     ]
    },
    {
     "name": "stderr",
     "output_type": "stream",
     "text": [
      "100%|██████████| 50/50 [00:10<00:00,  4.81it/s]\n"
     ]
    },
    {
     "name": "stdout",
     "output_type": "stream",
     "text": [
      "Batch 106 stats:\n",
      "Positive samples: 111\n",
      "Negative samples: 555\n",
      "\n",
      "Processing batch 107/130\n"
     ]
    },
    {
     "name": "stderr",
     "output_type": "stream",
     "text": [
      "100%|██████████| 50/50 [00:09<00:00,  5.08it/s]\n"
     ]
    },
    {
     "name": "stdout",
     "output_type": "stream",
     "text": [
      "Batch 107 stats:\n",
      "Positive samples: 87\n",
      "Negative samples: 430\n",
      "\n",
      "Processing batch 108/130\n"
     ]
    },
    {
     "name": "stderr",
     "output_type": "stream",
     "text": [
      "100%|██████████| 50/50 [00:09<00:00,  5.18it/s]\n"
     ]
    },
    {
     "name": "stdout",
     "output_type": "stream",
     "text": [
      "Batch 108 stats:\n",
      "Positive samples: 78\n",
      "Negative samples: 385\n",
      "\n",
      "Processing batch 109/130\n"
     ]
    },
    {
     "name": "stderr",
     "output_type": "stream",
     "text": [
      "100%|██████████| 50/50 [00:09<00:00,  5.33it/s]\n"
     ]
    },
    {
     "name": "stdout",
     "output_type": "stream",
     "text": [
      "Batch 109 stats:\n",
      "Positive samples: 69\n",
      "Negative samples: 345\n",
      "\n",
      "Processing batch 110/130\n"
     ]
    },
    {
     "name": "stderr",
     "output_type": "stream",
     "text": [
      "100%|██████████| 50/50 [00:09<00:00,  5.10it/s]\n"
     ]
    },
    {
     "name": "stdout",
     "output_type": "stream",
     "text": [
      "Batch 110 stats:\n",
      "Positive samples: 99\n",
      "Negative samples: 495\n",
      "\n",
      "Processing batch 111/130\n"
     ]
    },
    {
     "name": "stderr",
     "output_type": "stream",
     "text": [
      "100%|██████████| 50/50 [00:09<00:00,  5.02it/s]\n"
     ]
    },
    {
     "name": "stdout",
     "output_type": "stream",
     "text": [
      "Batch 111 stats:\n",
      "Positive samples: 76\n",
      "Negative samples: 370\n",
      "\n",
      "Combining intermediate batches...\n",
      "\n",
      "Processing batch 112/130\n"
     ]
    },
    {
     "name": "stderr",
     "output_type": "stream",
     "text": [
      "100%|██████████| 50/50 [00:08<00:00,  5.74it/s]\n"
     ]
    },
    {
     "name": "stdout",
     "output_type": "stream",
     "text": [
      "Batch 112 stats:\n",
      "Positive samples: 62\n",
      "Negative samples: 310\n",
      "\n",
      "Processing batch 113/130\n"
     ]
    },
    {
     "name": "stderr",
     "output_type": "stream",
     "text": [
      "100%|██████████| 50/50 [00:09<00:00,  5.53it/s]\n"
     ]
    },
    {
     "name": "stdout",
     "output_type": "stream",
     "text": [
      "Batch 113 stats:\n",
      "Positive samples: 99\n",
      "Negative samples: 490\n",
      "\n",
      "Processing batch 114/130\n"
     ]
    },
    {
     "name": "stderr",
     "output_type": "stream",
     "text": [
      "100%|██████████| 50/50 [00:09<00:00,  5.22it/s]\n"
     ]
    },
    {
     "name": "stdout",
     "output_type": "stream",
     "text": [
      "Batch 114 stats:\n",
      "Positive samples: 90\n",
      "Negative samples: 450\n",
      "\n",
      "Processing batch 115/130\n"
     ]
    },
    {
     "name": "stderr",
     "output_type": "stream",
     "text": [
      "100%|██████████| 50/50 [00:09<00:00,  5.12it/s]\n"
     ]
    },
    {
     "name": "stdout",
     "output_type": "stream",
     "text": [
      "Batch 115 stats:\n",
      "Positive samples: 74\n",
      "Negative samples: 365\n",
      "\n",
      "Processing batch 116/130\n"
     ]
    },
    {
     "name": "stderr",
     "output_type": "stream",
     "text": [
      "100%|██████████| 50/50 [00:10<00:00,  4.89it/s]\n"
     ]
    },
    {
     "name": "stdout",
     "output_type": "stream",
     "text": [
      "Batch 116 stats:\n",
      "Positive samples: 84\n",
      "Negative samples: 420\n",
      "\n",
      "Processing batch 117/130\n"
     ]
    },
    {
     "name": "stderr",
     "output_type": "stream",
     "text": [
      "100%|██████████| 50/50 [00:09<00:00,  5.22it/s]\n"
     ]
    },
    {
     "name": "stdout",
     "output_type": "stream",
     "text": [
      "Batch 117 stats:\n",
      "Positive samples: 78\n",
      "Negative samples: 390\n",
      "\n",
      "Processing batch 118/130\n"
     ]
    },
    {
     "name": "stderr",
     "output_type": "stream",
     "text": [
      "100%|██████████| 50/50 [00:10<00:00,  4.92it/s]\n"
     ]
    },
    {
     "name": "stdout",
     "output_type": "stream",
     "text": [
      "Batch 118 stats:\n",
      "Positive samples: 94\n",
      "Negative samples: 470\n",
      "\n",
      "Processing batch 119/130\n"
     ]
    },
    {
     "name": "stderr",
     "output_type": "stream",
     "text": [
      "100%|██████████| 50/50 [00:11<00:00,  4.51it/s]\n"
     ]
    },
    {
     "name": "stdout",
     "output_type": "stream",
     "text": [
      "Batch 119 stats:\n",
      "Positive samples: 79\n",
      "Negative samples: 390\n",
      "\n",
      "Processing batch 120/130\n"
     ]
    },
    {
     "name": "stderr",
     "output_type": "stream",
     "text": [
      "100%|██████████| 50/50 [00:12<00:00,  3.92it/s]\n"
     ]
    },
    {
     "name": "stdout",
     "output_type": "stream",
     "text": [
      "Batch 120 stats:\n",
      "Positive samples: 81\n",
      "Negative samples: 400\n",
      "\n",
      "Processing batch 121/130\n"
     ]
    },
    {
     "name": "stderr",
     "output_type": "stream",
     "text": [
      "100%|██████████| 50/50 [00:10<00:00,  4.59it/s]\n"
     ]
    },
    {
     "name": "stdout",
     "output_type": "stream",
     "text": [
      "Batch 121 stats:\n",
      "Positive samples: 87\n",
      "Negative samples: 435\n",
      "\n",
      "Combining intermediate batches...\n",
      "\n",
      "Processing batch 122/130\n"
     ]
    },
    {
     "name": "stderr",
     "output_type": "stream",
     "text": [
      "100%|██████████| 50/50 [00:09<00:00,  5.05it/s]\n"
     ]
    },
    {
     "name": "stdout",
     "output_type": "stream",
     "text": [
      "Batch 122 stats:\n",
      "Positive samples: 93\n",
      "Negative samples: 460\n",
      "\n",
      "Processing batch 123/130\n"
     ]
    },
    {
     "name": "stderr",
     "output_type": "stream",
     "text": [
      "100%|██████████| 50/50 [00:11<00:00,  4.49it/s]\n"
     ]
    },
    {
     "name": "stdout",
     "output_type": "stream",
     "text": [
      "Batch 123 stats:\n",
      "Positive samples: 81\n",
      "Negative samples: 401\n",
      "\n",
      "Processing batch 124/130\n"
     ]
    },
    {
     "name": "stderr",
     "output_type": "stream",
     "text": [
      "100%|██████████| 50/50 [00:09<00:00,  5.15it/s]\n"
     ]
    },
    {
     "name": "stdout",
     "output_type": "stream",
     "text": [
      "Batch 124 stats:\n",
      "Positive samples: 73\n",
      "Negative samples: 365\n",
      "\n",
      "Processing batch 125/130\n"
     ]
    },
    {
     "name": "stderr",
     "output_type": "stream",
     "text": [
      "100%|██████████| 50/50 [00:09<00:00,  5.20it/s]\n"
     ]
    },
    {
     "name": "stdout",
     "output_type": "stream",
     "text": [
      "Batch 125 stats:\n",
      "Positive samples: 68\n",
      "Negative samples: 335\n",
      "\n",
      "Processing batch 126/130\n"
     ]
    },
    {
     "name": "stderr",
     "output_type": "stream",
     "text": [
      "100%|██████████| 50/50 [00:10<00:00,  4.65it/s]\n"
     ]
    },
    {
     "name": "stdout",
     "output_type": "stream",
     "text": [
      "Batch 126 stats:\n",
      "Positive samples: 92\n",
      "Negative samples: 460\n",
      "\n",
      "Processing batch 127/130\n"
     ]
    },
    {
     "name": "stderr",
     "output_type": "stream",
     "text": [
      "100%|██████████| 50/50 [00:10<00:00,  4.76it/s]\n"
     ]
    },
    {
     "name": "stdout",
     "output_type": "stream",
     "text": [
      "Batch 127 stats:\n",
      "Positive samples: 71\n",
      "Negative samples: 350\n",
      "\n",
      "Processing batch 128/130\n"
     ]
    },
    {
     "name": "stderr",
     "output_type": "stream",
     "text": [
      "100%|██████████| 50/50 [00:09<00:00,  5.03it/s]\n"
     ]
    },
    {
     "name": "stdout",
     "output_type": "stream",
     "text": [
      "Batch 128 stats:\n",
      "Positive samples: 69\n",
      "Negative samples: 330\n",
      "\n",
      "Processing batch 129/130\n"
     ]
    },
    {
     "name": "stderr",
     "output_type": "stream",
     "text": [
      "100%|██████████| 50/50 [00:10<00:00,  4.91it/s]\n"
     ]
    },
    {
     "name": "stdout",
     "output_type": "stream",
     "text": [
      "Batch 129 stats:\n",
      "Positive samples: 114\n",
      "Negative samples: 570\n",
      "\n",
      "Processing batch 130/130\n"
     ]
    },
    {
     "name": "stderr",
     "output_type": "stream",
     "text": [
      "100%|██████████| 29/29 [00:04<00:00,  5.99it/s]\n"
     ]
    },
    {
     "name": "stdout",
     "output_type": "stream",
     "text": [
      "Batch 130 stats:\n",
      "Positive samples: 43\n",
      "Negative samples: 215\n",
      "Total features: 64990\n",
      "Positive samples: 10920\n",
      "Negative samples: 54070\n",
      "Feature dimension: 3780\n",
      "Training classifier...\n",
      "Saving model...\n",
      "Model saved to model.pkl\n"
     ]
    },
    {
     "name": "stderr",
     "output_type": "stream",
     "text": [
      "/usr/local/lib/python3.8/site-packages/sklearn/linear_model/_stochastic_gradient.py:713: ConvergenceWarning: Maximum number of iteration reached before convergence. Consider increasing max_iter to improve the fit.\n",
      "  warnings.warn(\n"
     ]
    },
    {
     "data": {
      "text/plain": [
       "True"
      ]
     },
     "execution_count": 12,
     "metadata": {},
     "output_type": "execute_result"
    }
   ],
   "source": [
    "train_file_path = \"dataset/train_files.txt\"\n",
    "train_images_path = \"dataset/images\"\n",
    "annotations_path = \"dataset/voc_labels\"\n",
    "model_save_path = \"model.pkl\"\n",
    "\n",
    "detector.train(train_file_path, train_images_path, annotations_path, model_save_path, batch_size=50 )"
   ]
  }
 ],
 "metadata": {
  "kernelspec": {
   "display_name": "Python 3 (ipykernel)",
   "language": "python",
   "name": "python3"
  },
  "language_info": {
   "codemirror_mode": {
    "name": "ipython",
    "version": 3
   },
   "file_extension": ".py",
   "mimetype": "text/x-python",
   "name": "python",
   "nbconvert_exporter": "python",
   "pygments_lexer": "ipython3",
   "version": "3.8.20"
  }
 },
 "nbformat": 4,
 "nbformat_minor": 5
}
